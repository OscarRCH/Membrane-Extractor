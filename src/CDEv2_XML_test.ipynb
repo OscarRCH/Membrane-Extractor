{
 "cells": [
  {
   "cell_type": "markdown",
   "id": "95452771",
   "metadata": {},
   "source": [
    "#### Test of the CDE v2 Table reader on XML files. Finds "
   ]
  },
  {
   "cell_type": "code",
   "execution_count": 13,
   "id": "996502fb",
   "metadata": {},
   "outputs": [
    {
     "name": "stdout",
     "output_type": "stream",
     "text": [
      "Did NOT find '<table' in XML\n",
      "Found '<ce:table' in XML\n",
      "Did NOT find '<table-wrap' in XML\n"
     ]
    }
   ],
   "source": [
    "import pathlib\n",
    "xml_file = pathlib.Path(\"../data/XMLs/10.1016_j.memsci.2023.122272.xml\")\n",
    "xml_content = xml_file.read_text(encoding=\"utf-8\")\n",
    "\n",
    "# Check for table tags\n",
    "for keyword in [\"<table\", \"<ce:table\", \"<table-wrap\"]:\n",
    "    if keyword in xml_content:\n",
    "        print(f\"Found '{keyword}' in XML\")\n",
    "    else:\n",
    "        print(f\"Did NOT find '{keyword}' in XML\")\n"
   ]
  },
  {
   "cell_type": "code",
   "execution_count": 19,
   "id": "88de3858",
   "metadata": {},
   "outputs": [
    {
     "name": "stdout",
     "output_type": "stream",
     "text": [
      "Found 1 tables\n",
      "\n",
      "--- Raw content of table 1 ---\n",
      "<ce:table colsep=\"0\" frame=\"topbot\" id=\"tbl1\" rowsep=\"0\" xmlns=\"http://www.elsevier.com/xml/common/cals/dtd\">\n",
      " <ce:label>\n",
      "  Table 1\n",
      " </ce:label>\n",
      " <ce:caption id=\"cap0060\">\n",
      "  <ce:simple-para id=\"tspara0010\" view=\"all\">\n",
      "   The ideal gas separation performance of the CAP\n",
      "   <ce:inf loc=\"post\">\n",
      "    ATRP\n",
      "   </ce:inf>\n",
      "   -UTFC membranes by resistance-in-series model in composite membranes. The CO\n",
      "   <ce:inf loc=\"post\">\n",
      "    2\n",
      "   </ce:inf>\n",
      "   and N\n",
      "   <ce:inf loc=\"post\">\n",
      "    2\n",
      "   </ce:inf>\n",
      "   permeabilities of PDMS and PDXL were used according to the literature (PDMS permeabilities: 3,800 Barrer (CO\n",
      "   <ce:inf loc=\"post\">\n",
      "    2\n",
      "   </ce:inf>\n",
      "   ) and 400 Barrer (N\n",
      "   <ce:inf loc=\"post\">\n",
      "    2\n",
      "   </ce:inf>\n",
      "   ); PDXL permeabilities: 200 Barrer (CO\n",
      "   <ce:inf loc=\"post\">\n",
      "    2\n",
      "   </ce:inf>\n",
      "   ) and 2.86 Barrer (N\n",
      "   <ce:inf loc=\"post\">\n",
      "    2\n",
      "   </ce:inf>\n",
      "   )) [\n",
      "   <ce:cross-ref id=\"crosref0615\" refid=\"bib14\">\n",
      "    14\n",
      "   </ce:cross-ref>\n",
      "   ,\n",
      "   <ce:cross-ref id=\"crosref0620\" refid=\"bib46\">\n",
      "    46\n",
      "   </ce:cross-ref>\n",
      "   ].\n",
      "  </ce:simple-para>\n",
      " </ce:caption>\n",
      " <ce:alt-text id=\"alttext0070\" role=\"short\">\n",
      "  Table 1\n",
      " </ce:alt-text>\n",
      " <tgroup cols=\"6\">\n",
      "  <colspec colname=\"col1\" colnum=\"1\">\n",
      "  </colspec>\n",
      "  <colspec colname=\"col2\" colnum=\"2\">\n",
      "  </colspec>\n",
      "  <colspec colname=\"col3\" colnum=\"3\">\n",
      "  </colspec>\n",
      "  <colspec colname=\"col4\" colnum=\"4\">\n",
      "  </colspec>\n",
      "  <colspec colname=\"col5\" colnum=\"5\">\n",
      "  </colspec>\n",
      "  <colspec colname=\"col6\" colnum=\"6\">\n",
      "  </colspec>\n",
      "  <thead>\n",
      "   <row rowsep=\"1\" valign=\"top\">\n",
      "    <entry xmlns=\"http://www.elsevier.com/xml/common/dtd\">\n",
      "    </entry>\n",
      "    <entry xmlns=\"http://www.elsevier.com/xml/common/dtd\">\n",
      "     Thickness (nm)\n",
      "    </entry>\n",
      "    <entry xmlns=\"http://www.elsevier.com/xml/common/dtd\">\n",
      "     Ideal CO\n",
      "     <inf loc=\"post\">\n",
      "      2\n",
      "     </inf>\n",
      "     permeance (GPU)\n",
      "    </entry>\n",
      "    <entry xmlns=\"http://www.elsevier.com/xml/common/dtd\">\n",
      "     Ideal CO\n",
      "     <inf loc=\"post\">\n",
      "      2\n",
      "     </inf>\n",
      "     /N\n",
      "     <inf loc=\"post\">\n",
      "      2\n",
      "     </inf>\n",
      "     selectivity\n",
      "    </\n"
     ]
    }
   ],
   "source": [
    "from bs4 import BeautifulSoup\n",
    "import pathlib\n",
    "\n",
    "xml_file = pathlib.Path(\"../data/XMLs/10.1016_j.memsci.2023.122272.xml\")\n",
    "xml_content = xml_file.read_text(encoding=\"utf-8\")\n",
    "soup = BeautifulSoup(xml_content, \"lxml\")\n",
    "\n",
    "tables = soup.find_all(lambda tag: tag.name and tag.name.endswith('table'))\n",
    "print(f\"Found {len(tables)} tables\")\n",
    "\n",
    "for t_index, table in enumerate(tables, start=1):\n",
    "    print(f\"\\n--- Raw content of table {t_index} ---\")\n",
    "    print(table.prettify()[:2000])  # first 2000 characters only\n"
   ]
  },
  {
   "cell_type": "code",
   "execution_count": 20,
   "id": "647509d1",
   "metadata": {},
   "outputs": [
    {
     "name": "stdout",
     "output_type": "stream",
     "text": [
      "Tbody exists, length: 113\n",
      "CAP\n",
      "ATRP\n",
      "2h\n",
      "145.3 ± 19.2\n",
      "1354.9\n",
      "69.0\n",
      "1013\n",
      "71.3\n",
      "CAP\n",
      "ATRP\n",
      "3h\n",
      "195.9 ± 19.7\n",
      "1009.0\n",
      "69.2\n",
      "838\n",
      "72.5\n",
      "CAP\n",
      "ATRP\n",
      "4h\n",
      "247.7 ± 7.3\n",
      "800.0\n",
      "69.4\n",
      "204\n",
      "57.5\n"
     ]
    }
   ],
   "source": [
    "# Look for any <tbody> content in the table\n",
    "tbody = tables[0].find(lambda tag: tag.name and tag.name.endswith('tbody'))\n",
    "if tbody:\n",
    "    print(\"Tbody exists, length:\", len(tbody.get_text(strip=True)))\n",
    "    print(tbody.get_text(\"\\n\", strip=True)[:500])  # preview first 500 chars\n",
    "else:\n",
    "    print(\"No <tbody> in table\")\n"
   ]
  },
  {
   "cell_type": "code",
   "execution_count": 21,
   "id": "cd6bbe6c",
   "metadata": {},
   "outputs": [
    {
     "name": "stdout",
     "output_type": "stream",
     "text": [
      "Found 1 tables\n",
      "\n",
      "Table 1 headers: ['', 'Thickness (nm)', 'Ideal CO 2 permeance (GPU)', 'Ideal CO 2 /N 2 selectivity', 'Experimental CO 2 permeance (GPU)', 'Experimental CO 2 /N 2 selectivity']\n",
      "{'': 'CAP ATRP 2h', 'Thickness (nm)': '145.3\\xa0±\\xa019.2', 'Ideal CO 2 permeance (GPU)': '1354.9', 'Ideal CO 2 /N 2 selectivity': '69.0', 'Experimental CO 2 permeance (GPU)': '1013', 'Experimental CO 2 /N 2 selectivity': '71.3'}\n",
      "{'': 'CAP ATRP 3h', 'Thickness (nm)': '195.9\\xa0±\\xa019.7', 'Ideal CO 2 permeance (GPU)': '1009.0', 'Ideal CO 2 /N 2 selectivity': '69.2', 'Experimental CO 2 permeance (GPU)': '838', 'Experimental CO 2 /N 2 selectivity': '72.5'}\n",
      "{'': 'CAP ATRP 4h', 'Thickness (nm)': '247.7\\xa0±\\xa07.3', 'Ideal CO 2 permeance (GPU)': '800.0', 'Ideal CO 2 /N 2 selectivity': '69.4', 'Experimental CO 2 permeance (GPU)': '204', 'Experimental CO 2 /N 2 selectivity': '57.5'}\n"
     ]
    }
   ],
   "source": [
    "from bs4 import BeautifulSoup\n",
    "import pathlib\n",
    "\n",
    "xml_file = pathlib.Path(\"../data/XMLs/10.1016_j.memsci.2023.122272.xml\")\n",
    "xml_content = xml_file.read_text(encoding=\"utf-8\")\n",
    "soup = BeautifulSoup(xml_content, \"lxml\")\n",
    "\n",
    "tables = soup.find_all(lambda tag: tag.name and tag.name.endswith('table'))\n",
    "print(f\"Found {len(tables)} tables\")\n",
    "\n",
    "for t_index, table in enumerate(tables, start=1):\n",
    "    # Extract headers from thead/row/entry\n",
    "    headers = []\n",
    "    thead = table.find(lambda tag: tag.name and tag.name.endswith('thead'))\n",
    "    if thead:\n",
    "        header_row = thead.find(lambda tag: tag.name and tag.name.endswith('row'))\n",
    "        if header_row:\n",
    "            headers = [entry.get_text(\" \", strip=True) for entry in header_row.find_all(lambda tag: tag.name and tag.name.endswith('entry'))]\n",
    "\n",
    "    # Extract data rows from tbody\n",
    "    data_rows = []\n",
    "    tbody = table.find(lambda tag: tag.name and tag.name.endswith('tbody'))\n",
    "    if tbody:\n",
    "        for row in tbody.find_all(lambda tag: tag.name and tag.name.endswith('row')):\n",
    "            cells = [entry.get_text(\" \", strip=True) for entry in row.find_all(lambda tag: tag.name and tag.name.endswith('entry'))]\n",
    "            data_rows.append(cells)\n",
    "\n",
    "    print(f\"\\nTable {t_index} headers:\", headers)\n",
    "    for row in data_rows:\n",
    "        print(dict(zip(headers, row)))\n"
   ]
  }
 ],
 "metadata": {
  "kernelspec": {
   "display_name": "mex",
   "language": "python",
   "name": "python3"
  },
  "language_info": {
   "codemirror_mode": {
    "name": "ipython",
    "version": 3
   },
   "file_extension": ".py",
   "mimetype": "text/x-python",
   "name": "python",
   "nbconvert_exporter": "python",
   "pygments_lexer": "ipython3",
   "version": "3.11.13"
  }
 },
 "nbformat": 4,
 "nbformat_minor": 5
}
