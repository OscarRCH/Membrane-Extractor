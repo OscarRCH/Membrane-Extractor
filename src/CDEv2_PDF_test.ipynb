{
 "cells": [
  {
   "cell_type": "code",
   "execution_count": 21,
   "id": "771596a5",
   "metadata": {},
   "outputs": [
    {
     "name": "stdout",
     "output_type": "stream",
     "text": [
      "Looking for PDF at: /Users/oscarrosseneu/Desktop/EPFL/Summer_2025_LAS/MEX/data/pdf/Test2.pdf\n",
      "Loaded with CDE PdfReader\n",
      "Entities (cems): ['hydroxyl', 'CO2', 'pentiptycene', 'PAA-C3H7', 'CO2', 'Pent-PI-PEO2000', 'ﬁlm', 'CO2', 'coal', 'iptycene', 'amines', 'poly (ether-b-amide)', '2,3,5,6-tetramethyl-1,4-phenylenediamine', 'iptycene', 'carbamate', 'amino acid', 'CO2/CH4', '2-aminoisobutyric acid', 'triptycene', 'Tf2N', 'epoxide', 'CO2', 'alcohol', 'bisAPAF', 'HPB', 'PEO', 'ﬂue', 'carbamate', 'amines', 'perﬂuoropolymers', 'Zn2+', 'spiro', 'TMAOH', 'CO2/CH4', 'CO2', 'CO2', 'CO2', 'CO2/H2', 'Trip', 'Pentiptycene', 'CO2', 'amine', 'CO2', 'CO2/\\nCH4', 'CO2', 'AD60', 'CO2', 'polyaniline', 'TR-α-PBO', 'N2', 'ﬁxed', 'PVA', 'N2', 'hydrogen', 'diacid chloride', 'CO2', 'FDA', 'PVAm/PZ-Gly', 'tetramethylammonium hydroxide', 'Hg', 'amine', 'F', 'perﬂuoropolymers', 'CO2', '6FDA', 'CO2', 'polyimides', 'ﬂexible', 'DABA', 'PVAm', 'PIM-1', 'PEO-ran-PPO-T6T6T', 'histidine', 'Lys', 'ﬂue', 'CO2', 'CO2/N2', 'tertiary amine', 'PVAm', 'SO2', '9,9′-bis(4-aminophenyl)ﬂuorene', 'CO2/CH4', 'perﬂuoropolymers', 'PIM', 'polyimides', 'CO2/H2', 'PVAm', 'CO2', '①', 'ﬁber', 'poly(N-vinylimidazole)–\\nzinc', 'carbon dioxide', 'CO2/CH4', 'amine', 'ethanoanthracene', 'AIBA', 'ether', 'diamine', 'bisAPAF', '6FDA', 'O2', 'H2/CO2', 'CO2', 'spirobisindane', 'N2', 'hydroxyl', 'benzene', 'poly(ethylene oxide)', 'amine', 'ﬁrstly', 'iptycene', 'hexaphenylbenzene', 'SBI', 'PIM-1', 'amines', 'iptycenes', 'TAEA', 'poly\\n(ethylene glycol)', 'amine–CO2', 'amino', 'conﬁguration', 'tertiary amino', 'H2', 'PFMMD', 'spiroﬂuorene', 'PZ', 'zeolite-Y', 'amine', 'triptycene', 'poly(diallyldimethylammonium\\nﬂuoride)', 'CO2', 'amino', 'CO2', 'CO2', 'ﬁxed', 'polyamides', 'CO2/N2', 'ﬂuorine', 'cysteine', 'Amines', 'polyimide', 'zeolite Y', 'Poly(PFMMD-co-PFMD)', 'poly(N-methyl-N-vinylamine)', 'PVI-Zn2', 'CO2', '6FDA', 'durene', 'SO2', 'CO2', 'CO2/N2', 'amine‐CO2', 'PVAm', 'PEO', 'hexaphenylbenzene', 'amine', 'carbon dioxide', 'CO2/N2', 'CO2', 'CO2', 'carbon', 'PFMMD', 'hydrogen', 'PVA/PAA-C3H7/AIBA', 'CO2', 'poly (ethylene glycol) diglycidyl ether', 'CO2', 'polybenzoxazole', 'pentiptycene', 'conﬁgurations', 'CF3', 'ﬁlm', 'imide', 'PAA/PVA/AIBA', 'CO2', 'PEO', 'ethylene oxide', 'polyim', 'CO2/N2', 'ly-\\nsine', 'PEO', 'PAA-C\\n(CH3)3', 'CO2/CH4', 'CO2', 'amines', 'CO2', 'CO2', 'amines', 'CO2/N2', 'PEI/PVA/PEG', 'PVAm', 'PF [141]', 'P222(101)][Inda', 'PVA/PDADMQ-F/TMAOH', 'CO2', 'amines', 'Poly(AAS-co-AAm)', 'CO2/N2', 'poly\\n(benzoxazole-co-imide)', 'PAA-C3H7', 'poly(2,2-bis(triﬂuoromethyl)-4,5-diﬂuoro-1,3-dioxole-co-tet-\\nraﬂuoroethylene)', 'CO2', 'CO2', 'Gly', 'iptycene', 'bisAPAF', 'Carbon', 'ﬁlm', 'CO2', 'CO2', 'PIM-1', 'amines', 'PEGDA/PEGMEA', 'HCP', 'CO2/N2', 'PBO', 'polyimide', 'CO2', 'TEGMVE/VEEM', 'PAH', 'CO2', 'CO2', 'PBI', 'PVAm/MEA', 'CO2', 'PEO', 'DGBAmE', 'tris(2-aminoethyl)\\namine', 'AD60', 'perﬂuoropolymers', 'CO2', 'polyimide', 'hydrogen', 'polyimides', 'iptycene diamine', 'CO2', 'PEO-b-PBT', 'CO2/CH4', 'polyimides', 'bicarbonate', 'PEO', 'adamantane', 'amine', 'DCA', 'CO2', 'PEO-b-PBT', 'CO2', 'poly(butylene terephthalate)', 'PEA/TMC', 'C', 'polybenzimidazole', 'pentiptycene diamine', 'Poly(PFMD)', 'amines', 'coal', 'PEO', 'CO2/H2', 'CO2', 'car-\\nbonic acid', 'PEG', 'CO2', 'CO2/N2', 'CH4', 'H2 puriﬁcation', 'chlorotriﬂuoroethylene', 'SO2', '6FDA', 'bicarbonate', 'PVAm/PZ', 'CO2', 'PVAm/K-Gly', 'CO2', 'tetrabutylphosphonium glycine', 'hydrocarbon', 'carboxylate', 'PEO', 'histidine', 'DABA/diol', 'Carbon Dioxide', 'Carbon dioxide', 'hydroxide', 'Pro', 'carbon\\ndioxide', 'polyimides', 'PEG', 'PVA', 'bicyclooctatriene', 'guanidine', 'polyether', 'CO2', 'CO2', 'PVAm-CH3', 'HPB', 'Monoethanolamine', 'CO2/CH4', 'guanidine', 'KOH', 'PEG-b-PPFPA', 'H2 puriﬁcation', 'tetramethyltetrahydronaphthalene', 'CO2', 'CO2', 'TPQPOH', 'CO2/H2', 'PEO', 'amine', 'DGBAmE/TMC', 'CO2/N2', 'CO2', 'polyvinylamine', 'CO2', 'halogen', 'CO2', 'CO2', 'CO2/CH4', 'CO2', 'PVAm', 'CO2', 'CO2', 'CO2/CH4', 'ﬂue', 'coal-ﬁred', 'amines', 'guanidine', 'carbon dioxide', 'perﬂuoropolymers', 'carbon', 'POSS–PEG', 'primary and secondary amines', 'ﬁlm', 'CO2', 'H2\\nCH4', '2-methylene-4,5-dimethyl-1,3-dioxlane', 'CO2/H2', 'Signiﬁcant', 'CO2', 'ﬁlms', 'PAA', 'CO2/CH4', 'CO2/H2', 'CO2', 'polyimide', 'dianhydride', 'CH4', 'CO2', 'nitrogen', 'PBT', 'PDMS', 'poly\\n(benzoxazole-co-pyrrolone)', 'CO2', 'CO2/N2', 'coal', 'poly(diallyldimethylammonium hydroxide)', 'Polyvinylamine', 'bis(epoxide)', 'CO2', 'poly(vinyl ether)s', 'hydrogen', 'CO2', '6FDA', 'ﬁber', 'Pent', 'tertiary amine', 'polyethylene glycol biazide', 'perﬂuoropolymers', 'PVAm/PVA', 'CO2', 'PVAm-CH3', 'ﬁlm', 'PVA/PAA-C(CH3)3', 'tetra-amide', 'CO2', 'dianhydride', 'CO2/N2', 'diamines', 'guanidine', 'polyether diamine', 'carbamate', 'CH4', 'ﬁller', 'iptycene', 'amine', 'CO2', 'CO2', 'H2', 'CO2', 'copolyimides', 'ammonium', 'CO2/H2', 'Poly(DADMACA-co-VAm)', 'carbamate', 'amine', 'TR-PBO-co-PPL', 'iptycene', 'coal', 'CO2', 'CO2', 'PVA', 'H2', 'ﬂue', 'adamantyl', 'H2', 'PEI', 'CO2', '6FDA', 'CH4', 'CO2', 'poly(ethylene oxide)', 'CH4', 'OOE', 'PEO', 'trimethylammonium', 'CO2/CH4', 'CO2', 'H2/CO2', 'polyimide', 'PVA/PAA-C3H7', 'Dioxolane', 'polybenzoxazole', 'PEO', 'ﬁnal', 'CO2', 'N2', 'carbamate', '4MPD', 'TMC', 'butyl ether', 'CO2', 'iptycene', 'CO2', 'imide', 'CO2', 'amino', 'CO2', 'amine', 'PDADMQ-OH', 'CO2', 'methacrylate', 'CO2/H2', 'dianhydrides', 'polyvinylalcohol–polysiloxane', 'PEG-azide', 'CO2', 'PEG-AME', 'CO2/H2', 'PEO-526/dopamine/PEGDME', 'PFMD', 'perﬂuoropolymers', 'tetraﬂuoroethylene', 'carbon', 'CO2/CH4', '2,2-bis(3-amino-4-hydroxyphenyl)\\nadamantane', 'amines', 'CO2', 'H2', 'PEO', 'ﬂuorinated', 'polyimide', 'ethylenediamine', 'CO2', 'TMC', 'proline', 'PEO', 'OH−', 'CO2/H2', 'carbonate', 'CO2', 'T6T6T', 'coal', 'PVA/PAA', 'EMIM', 'CO2', 'AIBA-K', 'Cd2+', 'ﬁller', 'H2 puriﬁcation', 'poly(ethyleneimine)', 'polyimide', 'CO2/H2', 'amine', 'ammonium', 'CH4', 'benzotriptycene', 'CO2', 'CO2', 'PEO', 'HCP', 'Poly(PFMMD)', 'Pro', 'Gly', 'hydrocarbon', 'TPDAn', 'H2 puriﬁcation', 'artiﬁcially', 'PMAPTAC/PDMAAm', 'PEO', 'imidazolium', 'amine', 'CO2', 'amino', 'TMC', 'H2', 'carbon dioxide', 'carbonyl', 'polydopamine', 'H2', 'amino', 'CO2', 'CO2/H2', 'carbon', 'polyimide', 'ﬂue', 'carbon', 'ﬂue', 'iptycene', 'CO2', 'ﬁnal', 'CO2', 'amine', 'CO2', 'DNMDAm', 'amine', 'CO2', 'CO', 'Carbon', 'polyether', 'poly(allylamine)', 'poly-N-tert-butylallylamine', 'coal', 'PEGDME500', 'γCD', 'PEO-PBT/PEG200', 'PEO', 'CO2', 'carbamate', 'PEG1500', 'PEG', 'MEA', 'piperazine', 'triptycene-\\ndiamine', 'DAB', 'indazole', 'perﬂuoropolymers', 'hydrogen', 'amines', 'polyimides', 'perﬂuoro-\\ndioxolane', 'diol', 'CO2/N2', 'perﬂuorinated', 'Amine', 'iptycene', 'poly\\n(benzoxazole-co-imide)', 'DATRI', 'PEO', 'amino', 'PVAm', '6FDA', 'PEI', 'Poly(PFMMD-co-CTFE)', 'ﬂexibility', 'CO2', 'PVA', 'CO2', 'CO2', 'CO2/CH4', 'amines', 'PVAm', 'CO2', 'CO2/H2', 'CO2', 'CO2', 'Zn2+', 'epoxide', 'amino acid', 'amino', 'amino', 'primary and secondary amines', 'poly(dimethylacrylamide)', 'efﬁciency', 'carbon dioxide', 'CO2', 'CO2', 'amines', 'amino\\nalcohols', 'CO2', 'dihydride', 'polyhydroxyamide', 'CO2/H2', 'pentiptycene', 'CO2', 'perﬂuoro', 'PEO–polystyrene', 'carbon', 'CO2/N2', 'hydrogen', 'H2', 'amidine', 'ﬁlm', 'polystyrene', 'CO2', 'hydrocarbons', 'DAmBS', 'TOX', 'CO2', 'PEO-PBT/PEG-BE', 'iptycene', 'bisAPAF', 'CO2', 'carbon', 'CO2', 'PVP', 'cadmium', 'ﬁxed', 'PEGDA/TRIS-A', 'CO2/CH4', 'amine', 'polybenzimidazole', 'ether', 'CO2', 'divinyl ether', 'carboxylic acid', 'CO2/N2', 'polyamide', 'poly(N-vinyl imidazole)', 'poly\\n(ethylene oxide)', 'SPBI', 'DABA', 'CO2', 'Carbon', 'CH4', 'polyetherimide', 'polyimide', 'poly(ethylene\\noxide)', 'PPDA', 'carboxylate', 'amines', 'amine', 'CO2', 'arene', 'pyrene', 'ethylene oxide', 'CO2', 'poly(ethylene glycol)', 'polyether diamine', 'oxygen', 'amine', 'CO2', 'dibenzodioxane', 'carbon', 'PEO', 'PEO', 'ﬂue', 'CH4', 'CO2', 'polyimide', 'deﬁciency', 'CO2/H2', 'carbon', 'PEG-DVE', 'DGBAmE', 'CO2/H2', 'sufﬁcient', 'CO2', 'spirobiindane', 'pent-PI', 'dianhydride', 'ethanolamines', 'amine', 'primary and secondary amines', 'CO2/CH4', 'amine', 'CO2', 'iptycene', 'iptycene', 'iptycene', 'triptycene', 'PFMD', 'PEO-PBT/PEG-DBE', '6FDA polyimide', 'iptycene', 'N2', 'CO2', 'CO2/N2', 'hydroxyl', 'Si', 'DNMDAm', 'imidazole', 'β-PBO [90,92]', 'spirobiindane', 'N2', 'amines', 'DABA', 'carbon', 'ﬂue', 'polyamine', 'β-CD-ferrocene', 'PVAm', 'triptycene', 'polybenzoxazoles', 'CF3', 'PVAm', 'amine', 'C', 'amine', 'triptycene', 'CO2', 'CO2/N2', 'CO2', 'carbon dioxide', 'PVA', '6FDA', 'sulfonated polybenzimidazole', 'carboxyl', 'βCD', 'PEO', 'amine', 'Si', 'CO2/CH4', 'CO2', 'amino', 'PVA/PAA-C4H9', 'perﬂuoro-(2-methylene-4-methyl-1,3-dioxolane)', 'ADHAB', '6FDA', 'poly\\n(benzoxazole-co-imide)', 'PVAm/EDA', 'CO2', 'PEO', 'amine', 'TMN', 'diamine', 'polyimide', 'PVAm', 'CO2/N2', 'PEO', 'PVAm-PDA-PDMS', 'CO2/H2', 'polypyrrolone', 'Amines', 'CO2', 'Poly(amide-12-b-ethylene oxide)/\\npolyethylene glycol', 'poly(PFMMD-co-PFMD)', 'PDMS', 'CO2', 'SBF', 'oxyethylene', 'Triptycene', 'CO2', 'PDADMQ-F', 'poly(amidoamine)', 'amine', 'polybenzoxazole', 'SO2', 'iptycene', 'CO2', 'perﬂuoropolymers', 'HF', 'CO2/H2', 'CO2', 'PAMAM/PEGDMA/4GMAP', 'bisAPAF', 'poly(vinyl alcohol)', 'CO2', 'CO2/N2', 'ﬂuoride', 'amino', 'PDADMQ-OH', 'PEG', 'ﬁrst', 'conﬁguration', 'benzene', 'CO2/H2', 'CO2', 'Si', 'PEO', 'C', 'polyamines', 'O', 'CO2', 'PVAm', 'CO2', 'PAA', 'ﬁlm', 'ﬁlm', 'CO2', 'CH4', 'conﬁnement', 'CO2', 'anhydrides', 'CO2', 'CO2/N2', 'N2', 'CO2', 'Poly(vinylalcohol)/poly\\n(ethyleneglycol)/poly(ethyleneimine)', 'hydrogen', '4MPD', 'amines', 'CO2/N2', 'CO2', 'Iptycene', 'Lewis base', 'ortho-hydroxy', 'dihydroxyl', 'PVA', 'PEGDME500', 'polyimide', 'carbonic acid', 'bicarbonate', 'PEG', 'CO2/CH4', 'N-vinylformamide', 'PEO', 'Cytop™', 'Tfa', 'perﬂuoropolymers', 'OH', 'PIM-polyimide', 'CO2', 'hydroxy-diamine', 'carbon', 'iptycene', 'ﬂuoride', '(1) TR-α', 'tertiary amino', 'CO2/H2', 'CO2', '6FDA', 'bisAPAF', 'CO2', 'Ge', 'H2/CO2', 'poly[bis(benzimidazobenzisoquinolinones)]', 'He', 'CO2', 'CO2', 'polyethersulfone', 'PEO', 'ally ether', 'PEO', 'tertiary amine', 'PEO', 'CO2', 'amino', 'CO2', 'ﬁlm', 'P222(101)][Inda', 'PEG', 'TR-α-PBI\\nTR-β-PBO', 'PPL', 'ADHAB', 'CO2/CH4', 'polyimides', 'N2', 'H2', 'PVA/PDADMQ-OH/TMAOH', 'silica', 'hydrocarbon', 'amine', 'ﬂue', 'GPA1000-g-PEG-azide', 'poly(ethylene glycol) diglycidyl\\nether', 'carbon dioxide', 'conﬁgurations', 'PVAm', 'amine', 'PEO', 'zeolite Y', 'EMIM', 'ﬂexibility', 'polyamide', 'TMC', 'trimesoyl chloride', 'Teﬂon™', 'PVAm/SDS/PZ-Gly', 'epoxy-amine', 'serine', 'triptycene', '2,6-diaminotriptycene', 'CO2/N2', 'CO2/CH4', 'carboxylic acid', 'carbon', 'β-CD', 'PEO', 'diacid chloride', 'imide', 'CO2/N2', 'CO2', 'SBI', 'CO2', 'PVAm', 'coal', 'CO2/N2', 'poly(methacryloylamino propyl\\nchloride)', 'CO2', 'CO2', 'H2/CO2', 'Perﬂuoropolymers', '6FDA', 'SER', 'polyvinylamine', 'CO2', 'H2O', 'perﬂuoropolymers', 'PEG', 'amine', 'CO2', 'PEO', 'PVAm', 'CO2/CH4', 'poly(ethylene oxide)', 'PEO', 'TMC', 'H2', 'PEO-b-PS [', 'afﬁnity', 'poly(ethylene glycol)', 'carbon', 'PEO', 'PVAm', 'PS-b-PEO/amidine', 'CO2/CH4', 'CO2', 'DAPP', 'Zn2+–imidazole', 'H2 puriﬁcation', 'PVAm', 'iptycene', 'carbon', 'CO2', 'amine', 'H2', 'H2', '6FDA', 'Si', 'carbon dioxide', 'CO2', 'PEO', 'ﬁller', 'iptycene', 'CO2', 'amino', 'CO2', 'amine', 'Amine', 'bisAPAF', 'CO2/N2', 'iptycene', 'CH4', 'hydroxyl', 'PVAm', '1-aminopyrene', 'CO2/N2', 'HAB', 'CO2', 'N2', 'PEGDME-500', 'SBF', 'spirobisindane', 'ether', 'PAA', 'CO2', 'signiﬁcant', 'Inda', 'CO2/N2', 'imide', 'nitrene', 'O2', 'PEO-b-PS', 'Hg', 'CH4', '6FDA', 'PVA', 'H2', 'CO2/CH4', 'CO2', 'PEO-b-PA6', 'Zn', 'CO2', 'poly (benzoxazole-co-imide)', 'polybenzimidazole', 'PEO', 'ortho-functional diamine', 'CO2/CH4', 'PVAm/Li-Gly', 'CO2', 'carboxylate', 'PEO', 'polyetheramine', 'TRIS', '(2) TR-β', 'CO2', 'iptycenes', 'iptycene', 'CO2', 'PEO-PPO-T6T6T/PDMS-PEG', 'PEO', '6FDA', 'CO2', 'CO2/CH4', '6FDA', 'CO2/H2', 'iptycene', 'amine', 'PEGDA/PEGMEA', 'potassium', 'pentiptycene', 'TR-α-PBI', 'CO2/CH4', 'PEO', 'CO2', 'CO2/CH4', 'amine–CO2', 'CO2/CH4', 'CO2', 'PAMPS/PDMAAm', 'polybenzoxazole', 'perﬂuoro-(2-methylene-1,3-dioxolane)', '6FDA-2,2′-bis-[4-(3,4-dicarboxyphenoxy)phenyl]propane\\ndianhydride', 'conﬁned', 'perﬂuoropolymers', 'bisAPAF', 'CO2', 'DAM', 'poly-N-isopropylallylamine', 'CO2/N2', 'CO2', 'CH4', 'pentiptycene', 'CO2', 'ﬂat', 'CO2/N2', 'Zn', 'PEG', 'TETA', 'PDMS', 'amino', 'Zn', 'ortho-hydroxycopolyimides', 'CO2', 'PEO-amine/PEO-epoxy', 'PBI', 'SPBI', 'PMAPTAC/PDMAAm', 'CO2/N2', 'polyimides', 'PVAm-CH3', 'CO2/CH4', 'phenylene', 'spirobiﬂuorene', 'amines', 'PEG', 'SPBI', 'PIM', 'amine', 'phosphonium\\nhydroxide', 'ﬁxed', 'polyvinylamine/piperazine', '6FDA', 'Polybenzodioxane', 'perﬂuoropolymers', 'CO2', 'H2', 'BPDC', 'acyl chloride', 'CO2', 'CO2', 'polyimides', 'carbon', 'PHA', 'iptycenes', 'methyl ether', 'CO2', 'polyaniline', 'PEG', 'H2', 'indanes', 'polyimide', 'CO2', 'sulfonated\\npolybenzimidazole', 'CO2', 'polybenzimidazole', 'poly (hydroxyimide)', 'polyvinylamine', 'β-cyclodextrin', 'TAEA', 'CO2/N2', 'epoxy-amine', 'N2', 'ﬁxed', 'diamines', 'carbon', 'CO2', '6FDA', 'CO2', 'borate', 'nitrogen', 'CO2/H2', 'methane', 'afﬁnity', 'dianhydride', 'amines', 'CO2', 'poly(ethylene glycol)dimethyl ether', 'Trip', 'bisAPAF', '6FDA', 'SBI', 'primary amine', 'Zn', 'puriﬁcation', 'CO2/H2', 'CO2', 'alkyl', 'PAA', 'TAEA', 'H2', 'PVAm/PZ-Gly', 'diamine', 'ﬂue', 'carbon', 'Si', 'perﬂuoropolymers', 'sufﬁcient', 'DAB', 'PVC-g-POEM', 'CO2', 'guanidine', 'CO2', 'hydroxide', 'PVA', 'hydrogen puriﬁcation', 'CO2/CH4', 'carbon dioxide', 'CO2', 'poly(vinyl alcohol)', 'carbon dioxide', 'polyimides', 'polyimide', 'DAB', 'PEO', 'diamine', 'CO2/H2', 'SO2', 'HAB', 'perﬂuorodioxolane', 'Zn2+', 'hydrogen', '3,5-diaminobenzoic acid', '6FDA', '-1,3-dioxole/\\ntetraﬂuoroethylene', 'PEI/PVA', 'bisAPAF', 'CO2', 'polyim-\\nide', 'CO2', 'PAA/AIBA', 'PZ', 'polyvinylamine', 'amide', 'CH4', 'C', 'amino\\nacid', 'bisAPAF', 'bisAPAF', 'polyimides', 'PEG-AE', 'CO2/CH4', '6FDA', 'CO2/CH4', 'silsesquioxane']\n"
     ]
    },
    {
     "data": {
      "text/plain": [
       "'\\ndef first_property_sentence(doc):\\n    if not doc.records:\\n        return \"No structured properties found.\"\\n    for rec in doc.records:\\n        data = rec.serialize()\\n        names = data.get(\"names\") or []\\n        chem = names[0] if names else \"Unknown compound\"\\n        for prop_key, label in [\\n            (\"melting_points\", \"melting point\"),\\n            (\"boiling_points\", \"boiling point\"),\\n            (\"glass_transitions\", \"glass transition\"),\\n            (\"densities\", \"density\"),\\n            (\"solubilities\", \"solubility\"),\\n        ]:\\n            vals = data.get(prop_key) or []\\n            if vals:\\n                v = vals[0]\\n                val = v.get(\"value\") or v.get(\"raw_value\") or \"?\"\\n                units = v.get(\"units\") or v.get(\"raw_units\") or \"\"\\n                return f\"{chem} has a {label} of {val} {units}\".strip()\\n    return \"No recognized property values found.\"\\n\\nprint(first_property_sentence(doc))\\n'"
      ]
     },
     "execution_count": 21,
     "metadata": {},
     "output_type": "execute_result"
    }
   ],
   "source": [
    "from pathlib import Path\n",
    "from chemdataextractor import Document\n",
    "from chemdataextractor.errors import ReaderError\n",
    "import chemdataextractor as cde\n",
    "\n",
    "# PDF path (print absolute path for clarity)\n",
    "pdf_path = Path(\"../data/pdf/Test2.pdf\")\n",
    "print(\"Looking for PDF at:\", pdf_path.resolve())\n",
    "\n",
    "# try CDE PDF reader first, then fallback to pdfminer if it fails\n",
    "try:\n",
    "    from chemdataextractor.reader.pdf import PdfReader\n",
    "    with open(pdf_path, \"rb\") as f:\n",
    "        doc = Document.from_file(f, readers=[PdfReader()])\n",
    "    print(\"Loaded with CDE PdfReader\")\n",
    "except Exception as e:\n",
    "    print(\"CDE PdfReader failed:\", e)\n",
    "    # fallback to pdfminer\n",
    "    try:\n",
    "        from pdfminer.high_level import extract_text\n",
    "    except ImportError:\n",
    "        raise SystemExit(\"You need pdfminer.six. Install with: !pip install pdfminer.six\")\n",
    "\n",
    "    text = extract_text(str(pdf_path))\n",
    "    if not text or not text.strip():\n",
    "        raise SystemExit(\"The PDF produced no text\")\n",
    "    doc = Document(text)\n",
    "    print(\"Loaded via pdfminer text fallback\")\n",
    "\n",
    "# Try showing basic chemical names only for testing \n",
    "print(\"Entities (cems):\", [str(c) for c in doc.cems])\n",
    "\n",
    "# E) PRINT THE FIRST CLEAR PROPERTY FOUND\n",
    "\"\"\"\n",
    "def first_property_sentence(doc):\n",
    "    if not doc.records:\n",
    "        return \"No structured properties found.\"\n",
    "    for rec in doc.records:\n",
    "        data = rec.serialize()\n",
    "        names = data.get(\"names\") or []\n",
    "        chem = names[0] if names else \"Unknown compound\"\n",
    "        for prop_key, label in [\n",
    "            (\"melting_points\", \"melting point\"),\n",
    "            (\"boiling_points\", \"boiling point\"),\n",
    "            (\"glass_transitions\", \"glass transition\"),\n",
    "            (\"densities\", \"density\"),\n",
    "            (\"solubilities\", \"solubility\"),\n",
    "        ]:\n",
    "            vals = data.get(prop_key) or []\n",
    "            if vals:\n",
    "                v = vals[0]\n",
    "                val = v.get(\"value\") or v.get(\"raw_value\") or \"?\"\n",
    "                units = v.get(\"units\") or v.get(\"raw_units\") or \"\"\n",
    "                return f\"{chem} has a {label} of {val} {units}\".strip()\n",
    "    return \"No recognized property values found.\"\n",
    "\n",
    "print(first_property_sentence(doc))\n",
    "\"\"\"\n"
   ]
  },
  {
   "cell_type": "code",
   "execution_count": 16,
   "id": "fb76bc36",
   "metadata": {},
   "outputs": [
    {
     "name": "stdout",
     "output_type": "stream",
     "text": [
      "\n",
      "--- SUMMARY ---\n",
      "CEM count: 1172\n",
      "Record count: 0\n"
     ]
    }
   ],
   "source": [
    "from pprint import pprint\n",
    "\n",
    "print(\"\\n--- SUMMARY ---\")\n",
    "print(\"CEM count:\", len(doc.cems))\n",
    "print(\"Record count:\", len(doc.records))\n"
   ]
  },
  {
   "cell_type": "code",
   "execution_count": 17,
   "id": "9665c777",
   "metadata": {},
   "outputs": [
    {
     "name": "stdout",
     "output_type": "stream",
     "text": [
      "\n",
      "--- RAW RECORDS (serialized) ---\n"
     ]
    }
   ],
   "source": [
    "print(\"\\n--- RAW RECORDS (serialized) ---\")\n",
    "for i, rec in enumerate(doc.records, 1):\n",
    "    data = rec.serialize()\n",
    "    print(f\"\\n[Record {i}] keys:\", list(data.keys()))\n",
    "    pprint(data, width=100, compact=False)\n"
   ]
  }
 ],
 "metadata": {
  "kernelspec": {
   "display_name": "mex",
   "language": "python",
   "name": "python3"
  },
  "language_info": {
   "codemirror_mode": {
    "name": "ipython",
    "version": 3
   },
   "file_extension": ".py",
   "mimetype": "text/x-python",
   "name": "python",
   "nbconvert_exporter": "python",
   "pygments_lexer": "ipython3",
   "version": "3.11.13"
  }
 },
 "nbformat": 4,
 "nbformat_minor": 5
}
