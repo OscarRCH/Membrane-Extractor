{
 "cells": [
  {
   "cell_type": "code",
   "execution_count": 46,
   "id": "05d58070",
   "metadata": {},
   "outputs": [
    {
     "name": "stdout",
     "output_type": "stream",
     "text": [
      "HTTP 200 - https://api.elsevier.com/content/search/sciencedirect?query=TITLE-ABSTR-KEY%28%22carbon+capture%22%29+AND+membrane+AND+permeance+AND+selectivity+AND+combustion+AND+polymer+AND+GPU+AND+OPENACCESS%281%29&count=25&offset=0&show=all\n",
      "totalResults: 131\n",
      "kept 25 of 25\n",
      "- 2024-02-29 Journal of Membrane Science | Breaking barriers: Unleashing CO<ce:inf loc=post>2</ce:inf> selectivity with ult ... 10.1016/j.memsci.2023.122272\n",
      "- 2024-12-31 Process Safety and Environmental Protection | Thin film nanocomposite membranes based on renewable polymer Pebax® and zeolitic ... 10.1016/j.psep.2024.10.053\n",
      "- 2025-03-31 Green Energy & Environment | Facilitated transport membranes in post-combustion carbon capture: Recent advanc ... 10.1016/j.gee.2024.04.010\n",
      "- 2025-04-30 Journal of Membrane Science | Recent progress in thin film composite membranes based on the polymer of intrins ... 10.1016/j.memsci.2025.123844\n",
      "- 2023-04-15 Journal of Membrane Science | Hydrogen-sieving zeolitic films by coating zeolite nanosheets on porous polymeri ... 10.1016/j.memsci.2023.121454\n",
      "- 2024-06-30 Carbon Capture Science & Technology | Recent progress on functional polymeric membranes for CO<ce:inf loc=post>2</ce:i ... 10.1016/j.ccst.2024.100204\n",
      "- 2025-01-31 Journal of Membrane Science | Mixed matrix and thin-film nanocomposite membranes of PIM-1 and hydrolyzed PIM-1 ... 10.1016/j.memsci.2024.123388\n",
      "- 2024-04-15 Heliyon | Statistical analysis of CO<ce:inf loc=post>2</ce:inf>/N<ce:inf loc=post>2</ce:in ... 10.1016/j.heliyon.2024.e29069\n",
      "- 2016-10-31 Green Energy & Environment | High-permeance crosslinked PTMSP thin-film composite membranes as supports for C ... 10.1016/j.gee.2016.10.002\n",
      "- 2023-08-05 Journal of Membrane Science | CO<ce:inf loc=post>2</ce:inf> separation using thin film composite membranes of  ... 10.1016/j.memsci.2023.121697\n"
     ]
    }
   ],
   "source": [
    "import requests, json\n",
    "from datetime import datetime\n",
    "\n",
    "API_KEY = \"2666c3270101dc6d670514f592d567a8\"\n",
    "HEADERS = {\"Accept\": \"application/json\", \"X-ELS-APIKey\": API_KEY}\n",
    "BASE = \"https://api.elsevier.com\"\n",
    "INST_TOKEN = \"\"  \n",
    "\n",
    "def search_sciencedirect(query, count=25, offset=0):\n",
    "    url = f\"{BASE}/content/search/sciencedirect\"\n",
    "    params = {\"query\": query, \"count\": str(count), \"offset\": str(offset), \"show\": \"all\"}\n",
    "    r = requests.get(url, params=params, headers=HEADERS, timeout=30)\n",
    "\n",
    "    # DEBUG\n",
    "    print(\"HTTP\", r.status_code, \"-\", r.url)\n",
    "    if r.status_code != 200:\n",
    "        print(\"Body snippet:\", r.text[:300])\n",
    "        r.raise_for_status()\n",
    "\n",
    "    data = r.json()\n",
    "    total = data.get(\"search-results\", {}).get(\"opensearch:totalResults\")\n",
    "    print(\"totalResults:\", total)\n",
    "\n",
    "    entries = data.get(\"search-results\", {}).get(\"entry\", []) or []\n",
    "    results = []\n",
    "    for e in entries:\n",
    "        results.append({\n",
    "            \"title\":   e.get(\"dc:title\"),\n",
    "            \"journal\": e.get(\"prism:publicationName\"),\n",
    "            \"date\":    e.get(\"prism:coverDate\"),\n",
    "            \"doi\":     e.get(\"prism:doi\"),\n",
    "            \"pii\":     e.get(\"pii\") or (e.get(\"dc:identifier\",\"\").replace(\"PII:\",\"\") if \"PII:\" in e.get(\"dc:identifier\",\"\") else None),\n",
    "            \"subtype\": (e.get(\"subtypeDescription\") or e.get(\"prism:aggregationType\") or \"\").lower(),\n",
    "        })\n",
    "    return results\n",
    "\n",
    "def year(date_str):\n",
    "    \"\"\"Return the year as int from a date string like '2021-06-15'.\"\"\"\n",
    "    return int(date_str[:4]) if date_str and date_str[:4].isdigit() else 0\n",
    "\n",
    "if __name__ == \"__main__\":\n",
    "    query = 'TITLE-ABSTR-KEY(\"carbon capture\") AND membrane AND permeance AND selectivity AND combustion AND polymer AND GPU AND OPENACCESS(1)'\n",
    "    hits = search_sciencedirect(query, count=25)\n",
    "\n",
    "    # Filtering step\n",
    "    keep = []\n",
    "    for h in hits:\n",
    "        if year(h[\"date\"]) >= 2010 and \"review\" not in h[\"subtype\"]:\n",
    "            keep.append(h)\n",
    "\n",
    "    print(f\"kept {len(keep)} of {len(hits)}\")\n",
    "    for k in keep[:10]:  # show first 5 kept\n",
    "        print(\"-\", k[\"date\"], k[\"journal\"], \"|\", k[\"title\"][:80], \"...\", k[\"doi\"] or k[\"pii\"])\n"
   ]
  }
 ],
 "metadata": {
  "kernelspec": {
   "display_name": "mex",
   "language": "python",
   "name": "python3"
  },
  "language_info": {
   "codemirror_mode": {
    "name": "ipython",
    "version": 3
   },
   "file_extension": ".py",
   "mimetype": "text/x-python",
   "name": "python",
   "nbconvert_exporter": "python",
   "pygments_lexer": "ipython3",
   "version": "3.11.13"
  }
 },
 "nbformat": 4,
 "nbformat_minor": 5
}
